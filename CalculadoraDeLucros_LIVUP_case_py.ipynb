{
  "nbformat": 4,
  "nbformat_minor": 0,
  "metadata": {
    "colab": {
      "provenance": [],
      "authorship_tag": "ABX9TyNxpJECmF765Fyd+dGr/1do",
      "include_colab_link": true
    },
    "kernelspec": {
      "name": "python3",
      "display_name": "Python 3"
    },
    "language_info": {
      "name": "python"
    }
  },
  "cells": [
    {
      "cell_type": "markdown",
      "metadata": {
        "id": "view-in-github",
        "colab_type": "text"
      },
      "source": [
        "<a href=\"https://colab.research.google.com/github/rankioshi/Google-Collab-Projects/blob/main/CalculadoraDeLucros_LIVUP_case_py.ipynb\" target=\"_parent\"><img src=\"https://colab.research.google.com/assets/colab-badge.svg\" alt=\"Open In Colab\"/></a>"
      ]
    },
    {
      "cell_type": "code",
      "execution_count": null,
      "metadata": {
        "colab": {
          "base_uri": "https://localhost:8080/"
        },
        "id": "XmYxpg_hW9xh",
        "outputId": "4d246dce-cab2-480c-b91a-a7b835424ebc"
      },
      "outputs": [
        {
          "output_type": "stream",
          "name": "stdout",
          "text": [
            "Digite o número de clientes que entraram no mês zero: 100\n",
            "O grupo de clientes se tornará lucrativo após 25 meses.\n"
          ]
        }
      ],
      "source": [
        "def calcular_tempo_para_lucratividade(num_clientes):\n",
        "\n",
        "    cac = 150\n",
        "    ticket_medio_primeira_compra = 100\n",
        "    ticket_medio_recompra = 200\n",
        "    margem_lucro = 0.30\n",
        "\n",
        "    # Cálculo do custo inicial\n",
        "    custo_inicial = num_clientes * cac\n",
        "\n",
        "    # Receita e lucro na primeira compra\n",
        "    receita_primeira_compra = num_clientes * ticket_medio_primeira_compra\n",
        "    lucro_primeira_compra = receita_primeira_compra * margem_lucro\n",
        "\n",
        "    lucro_acumulado = lucro_primeira_compra\n",
        "    mes = 0\n",
        "\n",
        "    # Probabilidades de recompra\n",
        "    prob_recompra_inicial = 0.20\n",
        "    prob_recompra_final = 0.05\n",
        "    duracao_reducao_prob = 9\n",
        "\n",
        "    # Loop mensal para calcular o lucro acumulado\n",
        "    while lucro_acumulado < custo_inicial:\n",
        "        mes += 1\n",
        "\n",
        "        # Calcula a probabilidade de recompra para o mês atual\n",
        "        if mes == 1:\n",
        "            prob_recompra = prob_recompra_inicial\n",
        "        elif mes <= duracao_reducao_prob + 1:\n",
        "            prob_recompra = prob_recompra_inicial - (prob_recompra_inicial - prob_recompra_final) * (mes - 1) / duracao_reducao_prob\n",
        "        else:\n",
        "            prob_recompra = prob_recompra_final\n",
        "\n",
        "        # Calcula o lucro gerado pelas recompras\n",
        "        num_recompras = num_clientes * prob_recompra\n",
        "        receita_recompra = num_recompras * ticket_medio_recompra\n",
        "        lucro_recompra = receita_recompra * margem_lucro\n",
        "\n",
        "\n",
        "        lucro_acumulado += lucro_recompra\n",
        "\n",
        "    return mes\n",
        "\n",
        "num_clientes_inicial = int(input(\"Digite o número de clientes que entraram no mês zero: \"))\n",
        "meses_ate_lucratividade = calcular_tempo_para_lucratividade(num_clientes_inicial)\n",
        "print(f\"O grupo de clientes se tornará lucrativo após {meses_ate_lucratividade} meses.\")"
      ]
    }
  ]
}