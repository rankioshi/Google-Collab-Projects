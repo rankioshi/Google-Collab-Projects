{
  "nbformat": 4,
  "nbformat_minor": 0,
  "metadata": {
    "colab": {
      "provenance": [],
      "authorship_tag": "ABX9TyOx+IMdhdUzyfk8cPt1L/zi",
      "include_colab_link": true
    },
    "kernelspec": {
      "name": "python3",
      "display_name": "Python 3"
    },
    "language_info": {
      "name": "python"
    }
  },
  "cells": [
    {
      "cell_type": "markdown",
      "metadata": {
        "id": "view-in-github",
        "colab_type": "text"
      },
      "source": [
        "<a href=\"https://colab.research.google.com/github/rankioshi/Google-Collab-Projects/blob/main/doZEROaVAGA_%232.ipynb\" target=\"_parent\"><img src=\"https://colab.research.google.com/assets/colab-badge.svg\" alt=\"Open In Colab\"/></a>"
      ]
    },
    {
      "cell_type": "code",
      "execution_count": 4,
      "metadata": {
        "colab": {
          "base_uri": "https://localhost:8080/"
        },
        "id": "-o99SeqcB0Yq",
        "outputId": "029f45b1-97c7-4ec0-a8b8-b58b8c0d7346"
      },
      "outputs": [
        {
          "output_type": "stream",
          "name": "stdout",
          "text": [
            "[24, 284, 846, 66, 132]\n"
          ]
        }
      ],
      "source": [
        "lista1 = [2, 4 , 6]\n",
        "lista2 = [12, 142, 423, 33, 66]\n",
        "\n",
        "def duplicarLista(lista):\n",
        "  for i in range (len(lista)):\n",
        "    lista[i] *= 2\n",
        "\n",
        "duplicarLista(lista2)\n",
        "\n",
        "print(lista2)\n"
      ]
    }
  ]
}